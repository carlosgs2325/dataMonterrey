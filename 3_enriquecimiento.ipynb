{
 "cells": [
  {
   "cell_type": "code",
   "execution_count": 1,
   "id": "b8714530-ba2b-4632-9066-b8bdb068c0e3",
   "metadata": {},
   "outputs": [],
   "source": [
    "%matplotlib inline\n",
    "import pandas as pd"
   ]
  },
  {
   "cell_type": "code",
   "execution_count": 3,
   "id": "cc3f10d0-0823-432e-ad8c-032ff0af7f13",
   "metadata": {},
   "outputs": [],
   "source": [
    "compras_df=pd.read_csv('data/clean_compras.csv')"
   ]
  },
  {
   "cell_type": "code",
   "execution_count": 27,
   "id": "8e097357-3b8b-4535-8bf4-0259121e91cc",
   "metadata": {},
   "outputs": [
    {
     "data": {
      "text/html": [
       "<div>\n",
       "<style scoped>\n",
       "    .dataframe tbody tr th:only-of-type {\n",
       "        vertical-align: middle;\n",
       "    }\n",
       "\n",
       "    .dataframe tbody tr th {\n",
       "        vertical-align: top;\n",
       "    }\n",
       "\n",
       "    .dataframe thead th {\n",
       "        text-align: right;\n",
       "    }\n",
       "</style>\n",
       "<table border=\"1\" class=\"dataframe\">\n",
       "  <thead>\n",
       "    <tr style=\"text-align: right;\">\n",
       "      <th></th>\n",
       "      <th>C B</th>\n",
       "      <th>BENEFICIARIO</th>\n",
       "      <th>RFC</th>\n",
       "      <th>FACTURAS</th>\n",
       "      <th>CONTRATO</th>\n",
       "      <th>CONCEPTO</th>\n",
       "      <th>TIPO</th>\n",
       "      <th>FDO-#OP</th>\n",
       "      <th>FECHA</th>\n",
       "      <th>IMPORTE</th>\n",
       "      <th>SHEET</th>\n",
       "      <th>DIA</th>\n",
       "      <th>MES</th>\n",
       "      <th>AÑO</th>\n",
       "      <th>ANIO</th>\n",
       "    </tr>\n",
       "  </thead>\n",
       "  <tbody>\n",
       "    <tr>\n",
       "      <th>0</th>\n",
       "      <td>110036</td>\n",
       "      <td>SEMEX,S.A.DE C.V.</td>\n",
       "      <td>SEM680801193</td>\n",
       "      <td>48298-183011-4972</td>\n",
       "      <td>SDU-019-2022</td>\n",
       "      <td>ESTIMACION # 18 PARA EL SUMINISTRO Y APLICACIO...</td>\n",
       "      <td>TR</td>\n",
       "      <td>1029007.0</td>\n",
       "      <td>2023-12-19</td>\n",
       "      <td>3914510.69</td>\n",
       "      <td>GASTOS VARIOS</td>\n",
       "      <td>19</td>\n",
       "      <td>12</td>\n",
       "      <td>2023</td>\n",
       "      <td>2023</td>\n",
       "    </tr>\n",
       "    <tr>\n",
       "      <th>1</th>\n",
       "      <td>111017</td>\n",
       "      <td>PRAXAIR MEXICO S. DE R.L. DE C.V.</td>\n",
       "      <td>PME960701GG0</td>\n",
       "      <td>FZ5592100-183011-5005</td>\n",
       "      <td>SFA-057-2022</td>\n",
       "      <td>SUMINISTRO DE OXIGENO, GASES MEDICINALES Y ACC...</td>\n",
       "      <td>TR</td>\n",
       "      <td>1029028.0</td>\n",
       "      <td>2023-12-19</td>\n",
       "      <td>12474.70</td>\n",
       "      <td>GASTOS VARIOS</td>\n",
       "      <td>19</td>\n",
       "      <td>12</td>\n",
       "      <td>2023</td>\n",
       "      <td>2023</td>\n",
       "    </tr>\n",
       "    <tr>\n",
       "      <th>2</th>\n",
       "      <td>112917</td>\n",
       "      <td>TELEFONOS DE MEXICO,S.A.B DE C.V.</td>\n",
       "      <td>TME840315KT6</td>\n",
       "      <td>0V03217-011-183011-6490</td>\n",
       "      <td>NO APLICA</td>\n",
       "      <td>SERVICIO TELEFONICO DE LA DELEGACION IMPUESTO ...</td>\n",
       "      <td>TR</td>\n",
       "      <td>1028981.0</td>\n",
       "      <td>2023-12-15</td>\n",
       "      <td>1282.82</td>\n",
       "      <td>GASTOS VARIOS</td>\n",
       "      <td>15</td>\n",
       "      <td>12</td>\n",
       "      <td>2023</td>\n",
       "      <td>2023</td>\n",
       "    </tr>\n",
       "    <tr>\n",
       "      <th>3</th>\n",
       "      <td>112917</td>\n",
       "      <td>TELEFONOS DE MEXICO,S.A.B DE C.V.</td>\n",
       "      <td>TME840315KT6</td>\n",
       "      <td>0F03598-11-183011-6491</td>\n",
       "      <td>NO APLICA</td>\n",
       "      <td>SERVICIO TELEFONICO DEL DIF. CANOAS Y SEGURIDA...</td>\n",
       "      <td>TR</td>\n",
       "      <td>1029062.0</td>\n",
       "      <td>2023-12-21</td>\n",
       "      <td>2723.97</td>\n",
       "      <td>GASTOS VARIOS</td>\n",
       "      <td>21</td>\n",
       "      <td>12</td>\n",
       "      <td>2023</td>\n",
       "      <td>2023</td>\n",
       "    </tr>\n",
       "    <tr>\n",
       "      <th>4</th>\n",
       "      <td>113290</td>\n",
       "      <td>CREACIONES EXCLUSIVAS CARYFAM, S.A. DE C.V.</td>\n",
       "      <td>CEC930204HH5</td>\n",
       "      <td>9866-183011-6441</td>\n",
       "      <td>ORDEN DE COMPRA 10540</td>\n",
       "      <td>COMPRA DE PLAYERAS PARA ARBITROS Y COMITE ORGA...</td>\n",
       "      <td>TR</td>\n",
       "      <td>1029036.0</td>\n",
       "      <td>2023-12-19</td>\n",
       "      <td>203580.00</td>\n",
       "      <td>GASTOS VARIOS</td>\n",
       "      <td>19</td>\n",
       "      <td>12</td>\n",
       "      <td>2023</td>\n",
       "      <td>2023</td>\n",
       "    </tr>\n",
       "  </tbody>\n",
       "</table>\n",
       "</div>"
      ],
      "text/plain": [
       "      C B                                 BENEFICIARIO           RFC  \\\n",
       "0  110036                            SEMEX,S.A.DE C.V.  SEM680801193   \n",
       "1  111017            PRAXAIR MEXICO S. DE R.L. DE C.V.  PME960701GG0   \n",
       "2  112917            TELEFONOS DE MEXICO,S.A.B DE C.V.  TME840315KT6   \n",
       "3  112917            TELEFONOS DE MEXICO,S.A.B DE C.V.  TME840315KT6   \n",
       "4  113290  CREACIONES EXCLUSIVAS CARYFAM, S.A. DE C.V.  CEC930204HH5   \n",
       "\n",
       "                  FACTURAS               CONTRATO  \\\n",
       "0        48298-183011-4972           SDU-019-2022   \n",
       "1    FZ5592100-183011-5005           SFA-057-2022   \n",
       "2  0V03217-011-183011-6490              NO APLICA   \n",
       "3   0F03598-11-183011-6491              NO APLICA   \n",
       "4         9866-183011-6441  ORDEN DE COMPRA 10540   \n",
       "\n",
       "                                            CONCEPTO TIPO    FDO-#OP  \\\n",
       "0  ESTIMACION # 18 PARA EL SUMINISTRO Y APLICACIO...   TR  1029007.0   \n",
       "1  SUMINISTRO DE OXIGENO, GASES MEDICINALES Y ACC...   TR  1029028.0   \n",
       "2  SERVICIO TELEFONICO DE LA DELEGACION IMPUESTO ...   TR  1028981.0   \n",
       "3  SERVICIO TELEFONICO DEL DIF. CANOAS Y SEGURIDA...   TR  1029062.0   \n",
       "4  COMPRA DE PLAYERAS PARA ARBITROS Y COMITE ORGA...   TR  1029036.0   \n",
       "\n",
       "       FECHA     IMPORTE          SHEET  DIA  MES   AÑO  ANIO  \n",
       "0 2023-12-19  3914510.69  GASTOS VARIOS   19   12  2023  2023  \n",
       "1 2023-12-19    12474.70  GASTOS VARIOS   19   12  2023  2023  \n",
       "2 2023-12-15     1282.82  GASTOS VARIOS   15   12  2023  2023  \n",
       "3 2023-12-21     2723.97  GASTOS VARIOS   21   12  2023  2023  \n",
       "4 2023-12-19   203580.00  GASTOS VARIOS   19   12  2023  2023  "
      ]
     },
     "execution_count": 27,
     "metadata": {},
     "output_type": "execute_result"
    }
   ],
   "source": [
    "compras_df.head()"
   ]
  },
  {
   "cell_type": "code",
   "execution_count": 5,
   "id": "a0efaf0f-304b-4f10-a1f4-687acc69484a",
   "metadata": {},
   "outputs": [
    {
     "data": {
      "text/plain": [
       "C B               int64\n",
       "BENEFICIARIO     object\n",
       "RFC              object\n",
       "FACTURAS         object\n",
       "CONTRATO         object\n",
       "CONCEPTO         object\n",
       "TIPO             object\n",
       "FDO-#OP         float64\n",
       "FECHA            object\n",
       "IMPORTE         float64\n",
       "SHEET            object\n",
       "dtype: object"
      ]
     },
     "execution_count": 5,
     "metadata": {},
     "output_type": "execute_result"
    }
   ],
   "source": [
    "compras_df.dtypes"
   ]
  },
  {
   "cell_type": "code",
   "execution_count": 9,
   "id": "40fe7c1e-915b-4cdf-a8ac-9caef9c65a5a",
   "metadata": {},
   "outputs": [],
   "source": [
    "compras_df['FECHA']=pd.to_datetime(compras_df['FECHA'])"
   ]
  },
  {
   "cell_type": "code",
   "execution_count": 11,
   "id": "945a4517-91fe-4ab9-8383-0ad26be6e4a2",
   "metadata": {},
   "outputs": [],
   "source": [
    "compras_df['DIA']=compras_df['FECHA'].apply(lambda x: x.day)"
   ]
  },
  {
   "cell_type": "code",
   "execution_count": 15,
   "id": "1a3cd03a-3a74-45a8-a022-37af9496aed0",
   "metadata": {},
   "outputs": [],
   "source": [
    "compras_df['MES']=compras_df['FECHA'].apply(lambda x: x.month)"
   ]
  },
  {
   "cell_type": "code",
   "execution_count": 25,
   "id": "f0caa994-cb65-405c-8dbe-455169e8ab71",
   "metadata": {},
   "outputs": [],
   "source": [
    "compras_df['AÑO']=compras_df['FECHA'].apply(lambda x: x.year)"
   ]
  },
  {
   "cell_type": "markdown",
   "id": "8fc21ef0-8b4a-4170-a776-f35a8297fdce",
   "metadata": {},
   "source": [
    "# Proyectar una variable con otra"
   ]
  },
  {
   "cell_type": "code",
   "execution_count": 31,
   "id": "ddebf86c-89d5-4918-b860-00f399743f18",
   "metadata": {},
   "outputs": [],
   "source": [
    "beneficiario_sales=compras_df['BENEFICIARIO'].value_counts().to_dict()"
   ]
  },
  {
   "cell_type": "code",
   "execution_count": 33,
   "id": "3f2c3708-aad1-47ad-a882-1d6251241d2e",
   "metadata": {},
   "outputs": [
    {
     "data": {
      "text/plain": [
       "['CAMARA MEXICANA DE LA INDUSTRIA DE LA CONSTRUCCION',\n",
       " 'MUNICIPIO DE LA CIUDAD DE MONTERREY',\n",
       " 'EDITORA EL SOL, S.A. DE C.V.',\n",
       " 'MOTO SOLUCIONES MEXICO, S.A. DE C.V.',\n",
       " 'CAR ONE MONTERREY, S.A. DE C.V.']"
      ]
     },
     "execution_count": 33,
     "metadata": {},
     "output_type": "execute_result"
    }
   ],
   "source": [
    "list(beneficiario_sales.keys())[0:5]"
   ]
  },
  {
   "cell_type": "code",
   "execution_count": 35,
   "id": "451df249-a462-4290-9604-9382c81e2b8d",
   "metadata": {},
   "outputs": [],
   "source": [
    "compras_df['BENEFICIARIO_SALES']=compras_df['BENEFICIARIO'].apply(lambda x: beneficiario_sales[x])"
   ]
  },
  {
   "cell_type": "code",
   "execution_count": 37,
   "id": "8c13b337-a911-4ae8-b637-49d0575f423e",
   "metadata": {},
   "outputs": [
    {
     "data": {
      "text/html": [
       "<div>\n",
       "<style scoped>\n",
       "    .dataframe tbody tr th:only-of-type {\n",
       "        vertical-align: middle;\n",
       "    }\n",
       "\n",
       "    .dataframe tbody tr th {\n",
       "        vertical-align: top;\n",
       "    }\n",
       "\n",
       "    .dataframe thead th {\n",
       "        text-align: right;\n",
       "    }\n",
       "</style>\n",
       "<table border=\"1\" class=\"dataframe\">\n",
       "  <thead>\n",
       "    <tr style=\"text-align: right;\">\n",
       "      <th></th>\n",
       "      <th>C B</th>\n",
       "      <th>BENEFICIARIO</th>\n",
       "      <th>RFC</th>\n",
       "      <th>FACTURAS</th>\n",
       "      <th>CONTRATO</th>\n",
       "      <th>CONCEPTO</th>\n",
       "      <th>TIPO</th>\n",
       "      <th>FDO-#OP</th>\n",
       "      <th>FECHA</th>\n",
       "      <th>IMPORTE</th>\n",
       "      <th>SHEET</th>\n",
       "      <th>DIA</th>\n",
       "      <th>MES</th>\n",
       "      <th>AÑO</th>\n",
       "      <th>ANIO</th>\n",
       "      <th>BENEFICIARIO_SALES</th>\n",
       "    </tr>\n",
       "  </thead>\n",
       "  <tbody>\n",
       "    <tr>\n",
       "      <th>0</th>\n",
       "      <td>110036</td>\n",
       "      <td>SEMEX,S.A.DE C.V.</td>\n",
       "      <td>SEM680801193</td>\n",
       "      <td>48298-183011-4972</td>\n",
       "      <td>SDU-019-2022</td>\n",
       "      <td>ESTIMACION # 18 PARA EL SUMINISTRO Y APLICACIO...</td>\n",
       "      <td>TR</td>\n",
       "      <td>1029007.0</td>\n",
       "      <td>2023-12-19</td>\n",
       "      <td>3914510.69</td>\n",
       "      <td>GASTOS VARIOS</td>\n",
       "      <td>19</td>\n",
       "      <td>12</td>\n",
       "      <td>2023</td>\n",
       "      <td>2023</td>\n",
       "      <td>7</td>\n",
       "    </tr>\n",
       "    <tr>\n",
       "      <th>1</th>\n",
       "      <td>111017</td>\n",
       "      <td>PRAXAIR MEXICO S. DE R.L. DE C.V.</td>\n",
       "      <td>PME960701GG0</td>\n",
       "      <td>FZ5592100-183011-5005</td>\n",
       "      <td>SFA-057-2022</td>\n",
       "      <td>SUMINISTRO DE OXIGENO, GASES MEDICINALES Y ACC...</td>\n",
       "      <td>TR</td>\n",
       "      <td>1029028.0</td>\n",
       "      <td>2023-12-19</td>\n",
       "      <td>12474.70</td>\n",
       "      <td>GASTOS VARIOS</td>\n",
       "      <td>19</td>\n",
       "      <td>12</td>\n",
       "      <td>2023</td>\n",
       "      <td>2023</td>\n",
       "      <td>1</td>\n",
       "    </tr>\n",
       "    <tr>\n",
       "      <th>2</th>\n",
       "      <td>112917</td>\n",
       "      <td>TELEFONOS DE MEXICO,S.A.B DE C.V.</td>\n",
       "      <td>TME840315KT6</td>\n",
       "      <td>0V03217-011-183011-6490</td>\n",
       "      <td>NO APLICA</td>\n",
       "      <td>SERVICIO TELEFONICO DE LA DELEGACION IMPUESTO ...</td>\n",
       "      <td>TR</td>\n",
       "      <td>1028981.0</td>\n",
       "      <td>2023-12-15</td>\n",
       "      <td>1282.82</td>\n",
       "      <td>GASTOS VARIOS</td>\n",
       "      <td>15</td>\n",
       "      <td>12</td>\n",
       "      <td>2023</td>\n",
       "      <td>2023</td>\n",
       "      <td>2</td>\n",
       "    </tr>\n",
       "    <tr>\n",
       "      <th>3</th>\n",
       "      <td>112917</td>\n",
       "      <td>TELEFONOS DE MEXICO,S.A.B DE C.V.</td>\n",
       "      <td>TME840315KT6</td>\n",
       "      <td>0F03598-11-183011-6491</td>\n",
       "      <td>NO APLICA</td>\n",
       "      <td>SERVICIO TELEFONICO DEL DIF. CANOAS Y SEGURIDA...</td>\n",
       "      <td>TR</td>\n",
       "      <td>1029062.0</td>\n",
       "      <td>2023-12-21</td>\n",
       "      <td>2723.97</td>\n",
       "      <td>GASTOS VARIOS</td>\n",
       "      <td>21</td>\n",
       "      <td>12</td>\n",
       "      <td>2023</td>\n",
       "      <td>2023</td>\n",
       "      <td>2</td>\n",
       "    </tr>\n",
       "    <tr>\n",
       "      <th>4</th>\n",
       "      <td>113290</td>\n",
       "      <td>CREACIONES EXCLUSIVAS CARYFAM, S.A. DE C.V.</td>\n",
       "      <td>CEC930204HH5</td>\n",
       "      <td>9866-183011-6441</td>\n",
       "      <td>ORDEN DE COMPRA 10540</td>\n",
       "      <td>COMPRA DE PLAYERAS PARA ARBITROS Y COMITE ORGA...</td>\n",
       "      <td>TR</td>\n",
       "      <td>1029036.0</td>\n",
       "      <td>2023-12-19</td>\n",
       "      <td>203580.00</td>\n",
       "      <td>GASTOS VARIOS</td>\n",
       "      <td>19</td>\n",
       "      <td>12</td>\n",
       "      <td>2023</td>\n",
       "      <td>2023</td>\n",
       "      <td>2</td>\n",
       "    </tr>\n",
       "  </tbody>\n",
       "</table>\n",
       "</div>"
      ],
      "text/plain": [
       "      C B                                 BENEFICIARIO           RFC  \\\n",
       "0  110036                            SEMEX,S.A.DE C.V.  SEM680801193   \n",
       "1  111017            PRAXAIR MEXICO S. DE R.L. DE C.V.  PME960701GG0   \n",
       "2  112917            TELEFONOS DE MEXICO,S.A.B DE C.V.  TME840315KT6   \n",
       "3  112917            TELEFONOS DE MEXICO,S.A.B DE C.V.  TME840315KT6   \n",
       "4  113290  CREACIONES EXCLUSIVAS CARYFAM, S.A. DE C.V.  CEC930204HH5   \n",
       "\n",
       "                  FACTURAS               CONTRATO  \\\n",
       "0        48298-183011-4972           SDU-019-2022   \n",
       "1    FZ5592100-183011-5005           SFA-057-2022   \n",
       "2  0V03217-011-183011-6490              NO APLICA   \n",
       "3   0F03598-11-183011-6491              NO APLICA   \n",
       "4         9866-183011-6441  ORDEN DE COMPRA 10540   \n",
       "\n",
       "                                            CONCEPTO TIPO    FDO-#OP  \\\n",
       "0  ESTIMACION # 18 PARA EL SUMINISTRO Y APLICACIO...   TR  1029007.0   \n",
       "1  SUMINISTRO DE OXIGENO, GASES MEDICINALES Y ACC...   TR  1029028.0   \n",
       "2  SERVICIO TELEFONICO DE LA DELEGACION IMPUESTO ...   TR  1028981.0   \n",
       "3  SERVICIO TELEFONICO DEL DIF. CANOAS Y SEGURIDA...   TR  1029062.0   \n",
       "4  COMPRA DE PLAYERAS PARA ARBITROS Y COMITE ORGA...   TR  1029036.0   \n",
       "\n",
       "       FECHA     IMPORTE          SHEET  DIA  MES   AÑO  ANIO  \\\n",
       "0 2023-12-19  3914510.69  GASTOS VARIOS   19   12  2023  2023   \n",
       "1 2023-12-19    12474.70  GASTOS VARIOS   19   12  2023  2023   \n",
       "2 2023-12-15     1282.82  GASTOS VARIOS   15   12  2023  2023   \n",
       "3 2023-12-21     2723.97  GASTOS VARIOS   21   12  2023  2023   \n",
       "4 2023-12-19   203580.00  GASTOS VARIOS   19   12  2023  2023   \n",
       "\n",
       "   BENEFICIARIO_SALES  \n",
       "0                   7  \n",
       "1                   1  \n",
       "2                   2  \n",
       "3                   2  \n",
       "4                   2  "
      ]
     },
     "execution_count": 37,
     "metadata": {},
     "output_type": "execute_result"
    }
   ],
   "source": [
    "compras_df.head()"
   ]
  },
  {
   "cell_type": "code",
   "execution_count": 39,
   "id": "19d2e5fa-a27b-4008-83e7-504d32c9a9cd",
   "metadata": {},
   "outputs": [],
   "source": [
    "sheet_mean_compras=compras_df.groupby('SHEET')['IMPORTE'].mean()"
   ]
  },
  {
   "cell_type": "code",
   "execution_count": 41,
   "id": "39fb0bf5-30c9-4ace-8876-6c4ddadb6f88",
   "metadata": {},
   "outputs": [
    {
     "data": {
      "text/plain": [
       "SHEET\n",
       "COMUNICACION     9.979830e+04\n",
       "CONTRATISTAS     4.422806e+05\n",
       "GASTOS VARIOS    1.041125e+06\n",
       "PERSONALES       5.124681e+04\n",
       "SERVICIOS        5.464488e+05\n",
       "Name: IMPORTE, dtype: float64"
      ]
     },
     "execution_count": 41,
     "metadata": {},
     "output_type": "execute_result"
    }
   ],
   "source": [
    "sheet_mean_compras"
   ]
  },
  {
   "cell_type": "code",
   "execution_count": 43,
   "id": "6348b99a-6f14-4c20-9aaa-6e344cdfb732",
   "metadata": {},
   "outputs": [
    {
     "data": {
      "text/plain": [
       "{'COMUNICACION': 99798.29520107238,\n",
       " 'CONTRATISTAS': 442280.55925343814,\n",
       " 'GASTOS VARIOS': 1041124.8811964287,\n",
       " 'PERSONALES': 51246.81125984252,\n",
       " 'SERVICIOS': 546448.8149333333}"
      ]
     },
     "execution_count": 43,
     "metadata": {},
     "output_type": "execute_result"
    }
   ],
   "source": [
    "sheet_mean_compras.to_dict()"
   ]
  },
  {
   "cell_type": "code",
   "execution_count": 45,
   "id": "00ac76d5-127c-463e-b4c8-e3577864fcfb",
   "metadata": {},
   "outputs": [],
   "source": [
    "compras_df['IMPORTE_GASTO_PROMEDIO']=compras_df['SHEET'].apply(lambda x: sheet_mean_compras[x])"
   ]
  },
  {
   "cell_type": "code",
   "execution_count": 47,
   "id": "155026ba-fb0c-493d-82da-0aaa4eff009e",
   "metadata": {},
   "outputs": [],
   "source": [
    "compras_df.to_csv('data/compras_df_enriched.csv', index=None)"
   ]
  }
 ],
 "metadata": {
  "kernelspec": {
   "display_name": "Python 3 (ipykernel)",
   "language": "python",
   "name": "python3"
  },
  "language_info": {
   "codemirror_mode": {
    "name": "ipython",
    "version": 3
   },
   "file_extension": ".py",
   "mimetype": "text/x-python",
   "name": "python",
   "nbconvert_exporter": "python",
   "pygments_lexer": "ipython3",
   "version": "3.12.4"
  }
 },
 "nbformat": 4,
 "nbformat_minor": 5
}
